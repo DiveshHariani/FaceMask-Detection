{
 "metadata": {
  "language_info": {
   "codemirror_mode": {
    "name": "ipython",
    "version": 3
   },
   "file_extension": ".py",
   "mimetype": "text/x-python",
   "name": "python",
   "nbconvert_exporter": "python",
   "pygments_lexer": "ipython3",
   "version": "3.7.4-final"
  },
  "orig_nbformat": 2,
  "kernelspec": {
   "name": "Python 3.7.4 64-bit ('base': conda)",
   "display_name": "Python 3.7.4 64-bit ('base': conda)",
   "metadata": {
    "interpreter": {
     "hash": "aad7fa43305c5ed1fb127d263f3083b3588cd5af60f171b45496a79879bf8414"
    }
   }
  }
 },
 "nbformat": 4,
 "nbformat_minor": 2,
 "cells": [
  {
   "cell_type": "code",
   "execution_count": 1,
   "metadata": {},
   "outputs": [],
   "source": [
    "import os\n",
    "path = \"data\""
   ]
  },
  {
   "cell_type": "code",
   "execution_count": 2,
   "metadata": {},
   "outputs": [
    {
     "output_type": "stream",
     "name": "stdout",
     "text": [
      "['without_mask', 'with_mask']\n[0, 1]\n{'without_mask': 0, 'with_mask': 1}\n"
     ]
    }
   ],
   "source": [
    "categories = os.listdir(path)\n",
    "category_codes = [i for i in range(len(categories))]\n",
    "category_map = dict(zip(categories, category_codes))\n",
    "\n",
    "print(categories)\n",
    "print(category_codes)\n",
    "print(category_map)"
   ]
  },
  {
   "cell_type": "code",
   "execution_count": 3,
   "metadata": {},
   "outputs": [],
   "source": [
    "import cv2\n",
    "feature = []\n",
    "label = []"
   ]
  },
  {
   "cell_type": "code",
   "execution_count": 4,
   "metadata": {
    "tags": []
   },
   "outputs": [
    {
     "output_type": "stream",
     "name": "stdout",
     "text": [
      "(100, 100)\n[[ 9  9 10 ... 21 27 27]\n [ 8  8  7 ...  8 13 15]\n [12 10 10 ...  4  4  4]\n ...\n [66 67 58 ...  1  0  0]\n [66 64 53 ...  2  0  0]\n [60 56 49 ...  2  0  0]]\n"
     ]
    }
   ],
   "source": [
    "import numpy as np\n",
    "image_size = 100\n",
    "for category in categories:\n",
    "    folder_path = os.path.join(path, category)\n",
    "    images = os.listdir(folder_path)\n",
    "\n",
    "    for image in images:\n",
    "        image_path = os.path.join(folder_path, image)\n",
    "        gray_image = cv2.imread(image_path, cv2.IMREAD_GRAYSCALE)\n",
    "        resized_image = cv2.resize(gray_image, (image_size, image_size))\n",
    "        \n",
    "        feature.append(resized_image)\n",
    "        label.append(category_map[category])\n",
    "print(feature[0].shape)\n",
    "print(feature[0])"
   ]
  },
  {
   "cell_type": "code",
   "execution_count": 5,
   "metadata": {},
   "outputs": [
    {
     "output_type": "stream",
     "name": "stdout",
     "text": [
      "(1376, 100, 100)\n"
     ]
    }
   ],
   "source": [
    "feature = np.array(feature) / 255\n",
    "print(feature.shape)"
   ]
  },
  {
   "cell_type": "code",
   "execution_count": 6,
   "metadata": {},
   "outputs": [
    {
     "output_type": "stream",
     "name": "stdout",
     "text": [
      "(1376, 100, 100, 1)\n"
     ]
    }
   ],
   "source": [
    "feature = np.reshape(feature, (feature.shape[0], image_size, image_size, 1))\n",
    "print(feature.shape)"
   ]
  },
  {
   "cell_type": "code",
   "execution_count": 7,
   "metadata": {},
   "outputs": [],
   "source": [
    "np.save('data', feature)\n",
    "np.save('label', label)"
   ]
  },
  {
   "cell_type": "code",
   "execution_count": null,
   "metadata": {},
   "outputs": [],
   "source": []
  }
 ]
}